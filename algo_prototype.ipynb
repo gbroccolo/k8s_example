{
 "cells": [
  {
   "cell_type": "code",
   "execution_count": 1,
   "metadata": {},
   "outputs": [],
   "source": [
    "# The algorithm that need to be implemented in a scalable service\n",
    "\n",
    "from itertools import count\n",
    "import numpy as np\n",
    "import pandas as pd\n",
    "\n",
    "def nd_rolling(data, window_size):\n",
    "    \"\"\"\n",
    "    data: pandas.core.frame.DataFrame\n",
    "    window_size: float\n",
    "\n",
    "    yield: tuple\n",
    "    \"\"\"\n",
    "\n",
    "    sample = list(zip(count(), data.values[:, 0], data.values[:, 1]))\n",
    "    for idx in range(0, len(sample)):\n",
    "        idx0 = idx if idx - window_size < 0 else idx - window_size\n",
    "        window = [it for it in sample\n",
    "                  if it[0] >= idx0 or it[0] <= idx0 + window_size]\n",
    "        x = np.array([it[2] for it in window])\n",
    "\n",
    "        yield {'idx': sample[idx][1],\n",
    "               'value': sample[idx][2],\n",
    "               'window_mean': np.mean(x),\n",
    "               'window_std': np.std(x)}\n",
    "\n",
    "def get_anomalous_values(data, window_size=100):\n",
    "    \"\"\"\n",
    "    data : pandas.core.frame.DataFrame\n",
    "    window_size: int\n",
    "\n",
    "    return: list\n",
    "    \"\"\"\n",
    "\n",
    "    # calculate the moving window for each point, and report the anomaly if\n",
    "    # the distance of the idx-th point is greater than md times the mahalanobis\n",
    "    # distance\n",
    "    return [(p['idx'], p['value']) for p in nd_rolling(data, window_size)\n",
    "            if abs(p['value'] - p['window_mean']) > 5 * p['window_std']]"
   ]
  },
  {
   "cell_type": "code",
   "execution_count": 2,
   "metadata": {},
   "outputs": [
    {
     "data": {
      "text/html": [
       "<div>\n",
       "<style scoped>\n",
       "    .dataframe tbody tr th:only-of-type {\n",
       "        vertical-align: middle;\n",
       "    }\n",
       "\n",
       "    .dataframe tbody tr th {\n",
       "        vertical-align: top;\n",
       "    }\n",
       "\n",
       "    .dataframe thead th {\n",
       "        text-align: right;\n",
       "    }\n",
       "</style>\n",
       "<table border=\"1\" class=\"dataframe\">\n",
       "  <thead>\n",
       "    <tr style=\"text-align: right;\">\n",
       "      <th></th>\n",
       "      <th>timestamp</th>\n",
       "      <th>value</th>\n",
       "    </tr>\n",
       "  </thead>\n",
       "  <tbody>\n",
       "    <tr>\n",
       "      <th>0</th>\n",
       "      <td>18:27:26.345</td>\n",
       "      <td>2.335</td>\n",
       "    </tr>\n",
       "    <tr>\n",
       "      <th>1</th>\n",
       "      <td>18:27:26.346</td>\n",
       "      <td>2.335</td>\n",
       "    </tr>\n",
       "    <tr>\n",
       "      <th>2</th>\n",
       "      <td>18:27:26.347</td>\n",
       "      <td>2.344</td>\n",
       "    </tr>\n",
       "    <tr>\n",
       "      <th>3</th>\n",
       "      <td>18:27:26.348</td>\n",
       "      <td>2.347</td>\n",
       "    </tr>\n",
       "    <tr>\n",
       "      <th>4</th>\n",
       "      <td>18:27:26.349</td>\n",
       "      <td>2.343</td>\n",
       "    </tr>\n",
       "  </tbody>\n",
       "</table>\n",
       "</div>"
      ],
      "text/plain": [
       "      timestamp  value\n",
       "0  18:27:26.345  2.335\n",
       "1  18:27:26.346  2.335\n",
       "2  18:27:26.347  2.344\n",
       "3  18:27:26.348  2.347\n",
       "4  18:27:26.349  2.343"
      ]
     },
     "execution_count": 2,
     "metadata": {},
     "output_type": "execute_result"
    }
   ],
   "source": [
    "# test now the procedure with the test dataset, \"x_y_dataset.csv\"\n",
    "data = pd.read_csv(\"./data/sample.csv\")\n",
    "data.head()"
   ]
  },
  {
   "cell_type": "code",
   "execution_count": 5,
   "metadata": {},
   "outputs": [
    {
     "data": {
      "image/png": "[encoded data removed]",
      "text/plain": [
       "<Figure size 432x288 with 1 Axes>"
      ]
     },
     "metadata": {
      "needs_background": "light"
     },
     "output_type": "display_data"
    }
   ],
   "source": [
    "# plot the data\n",
    "import matplotlib.pyplot as plt\n",
    "data_plot = data.plot(color = 'b')\n",
    "data_plot.set_xlabel(\"index in the time series\")\n",
    "data_plot.set_ylabel(\"value\")\n",
    "plt.show()"
   ]
  },
  {
   "cell_type": "code",
   "execution_count": 6,
   "metadata": {},
   "outputs": [
    {
     "name": "stdout",
     "output_type": "stream",
     "text": [
      "[('18:27:26.352', 2.449), ('18:27:26.411', 2.5540000000000003)]\n"
     ]
    }
   ],
   "source": [
    "print(get_anomalous_values(data))"
   ]
  },
  {
   "cell_type": "code",
   "execution_count": null,
   "metadata": {},
   "outputs": [],
   "source": []
  }
 ],
 "metadata": {
  "kernelspec": {
   "display_name": "Python 3",
   "language": "python",
   "name": "python3"
  },
  "language_info": {
   "codemirror_mode": {
    "name": "ipython",
    "version": 3
   },
   "file_extension": ".py",
   "mimetype": "text/x-python",
   "name": "python",
   "nbconvert_exporter": "python",
   "pygments_lexer": "ipython3",
   "version": "3.7.1"
  }
 },
 "nbformat": 4,
 "nbformat_minor": 2
}
